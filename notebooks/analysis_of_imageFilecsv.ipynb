{
 "cells": [
  {
   "cell_type": "markdown",
   "id": "87b259f2",
   "metadata": {},
   "source": [
    "## Quick analysis of the exported csv file for upload of images into Cantaloupe instance "
   ]
  },
  {
   "cell_type": "code",
   "execution_count": 1,
   "id": "a607d5d7",
   "metadata": {},
   "outputs": [],
   "source": [
    "import pandas as pd\n",
    "import numpy as np\n",
    "\n",
    "csv_to_load_path = \"images_v1.csv\" #define the path of the csv file"
   ]
  },
  {
   "cell_type": "code",
   "execution_count": 2,
   "id": "7bd147f4",
   "metadata": {},
   "outputs": [],
   "source": [
    "csv_df = pd.read_csv(csv_to_load_path)"
   ]
  },
  {
   "cell_type": "code",
   "execution_count": 3,
   "id": "840b09ae",
   "metadata": {},
   "outputs": [
    {
     "data": {
      "text/html": [
       "<div>\n",
       "<style scoped>\n",
       "    .dataframe tbody tr th:only-of-type {\n",
       "        vertical-align: middle;\n",
       "    }\n",
       "\n",
       "    .dataframe tbody tr th {\n",
       "        vertical-align: top;\n",
       "    }\n",
       "\n",
       "    .dataframe thead th {\n",
       "        text-align: right;\n",
       "    }\n",
       "</style>\n",
       "<table border=\"1\" class=\"dataframe\">\n",
       "  <thead>\n",
       "    <tr style=\"text-align: right;\">\n",
       "      <th></th>\n",
       "      <th>id</th>\n",
       "      <th>image</th>\n",
       "    </tr>\n",
       "  </thead>\n",
       "  <tbody>\n",
       "    <tr>\n",
       "      <th>0</th>\n",
       "      <td>https://resource.gta.arch.ethz.ch/digitalobjec...</td>\n",
       "      <td>https://collections.gta.arch.ethz.ch/eas/parti...</td>\n",
       "    </tr>\n",
       "    <tr>\n",
       "      <th>1</th>\n",
       "      <td>https://resource.gta.arch.ethz.ch/digitalobjec...</td>\n",
       "      <td>https://collections.gta.arch.ethz.ch/eas/parti...</td>\n",
       "    </tr>\n",
       "    <tr>\n",
       "      <th>2</th>\n",
       "      <td>https://resource.gta.arch.ethz.ch/digitalobjec...</td>\n",
       "      <td>https://collections.gta.arch.ethz.ch/eas/parti...</td>\n",
       "    </tr>\n",
       "    <tr>\n",
       "      <th>3</th>\n",
       "      <td>https://resource.gta.arch.ethz.ch/digitalobjec...</td>\n",
       "      <td>https://collections.gta.arch.ethz.ch/eas/parti...</td>\n",
       "    </tr>\n",
       "    <tr>\n",
       "      <th>4</th>\n",
       "      <td>https://resource.gta.arch.ethz.ch/digitalobjec...</td>\n",
       "      <td>https://collections.gta.arch.ethz.ch/eas/parti...</td>\n",
       "    </tr>\n",
       "  </tbody>\n",
       "</table>\n",
       "</div>"
      ],
      "text/plain": [
       "                                                  id  \\\n",
       "0  https://resource.gta.arch.ethz.ch/digitalobjec...   \n",
       "1  https://resource.gta.arch.ethz.ch/digitalobjec...   \n",
       "2  https://resource.gta.arch.ethz.ch/digitalobjec...   \n",
       "3  https://resource.gta.arch.ethz.ch/digitalobjec...   \n",
       "4  https://resource.gta.arch.ethz.ch/digitalobjec...   \n",
       "\n",
       "                                               image  \n",
       "0  https://collections.gta.arch.ethz.ch/eas/parti...  \n",
       "1  https://collections.gta.arch.ethz.ch/eas/parti...  \n",
       "2  https://collections.gta.arch.ethz.ch/eas/parti...  \n",
       "3  https://collections.gta.arch.ethz.ch/eas/parti...  \n",
       "4  https://collections.gta.arch.ethz.ch/eas/parti...  "
      ]
     },
     "execution_count": 3,
     "metadata": {},
     "output_type": "execute_result"
    }
   ],
   "source": [
    "csv_df.head()"
   ]
  },
  {
   "cell_type": "code",
   "execution_count": 29,
   "id": "973e0ef8",
   "metadata": {},
   "outputs": [
    {
     "name": "stdout",
     "output_type": "stream",
     "text": [
      "Total number of entries: 5772\n"
     ]
    }
   ],
   "source": [
    "print(\"Total number of entries:\",len(csv_df))"
   ]
  },
  {
   "cell_type": "code",
   "execution_count": 59,
   "id": "de2f5745",
   "metadata": {},
   "outputs": [
    {
     "name": "stdout",
     "output_type": "stream",
     "text": [
      "Total number of unique ids:  5772\n"
     ]
    }
   ],
   "source": [
    "print(\"Total number of unique ids: \", len(csv_df[\"id\"].unique()))"
   ]
  },
  {
   "cell_type": "code",
   "execution_count": 30,
   "id": "57172284",
   "metadata": {},
   "outputs": [
    {
     "name": "stdout",
     "output_type": "stream",
     "text": [
      "All unique values of file extensions:  ['jpg' 'pdf' 'wav' 'mp4' 'mov' 'zip']\n"
     ]
    }
   ],
   "source": [
    "print(\"All unique values of file extensions: \", csv_df[\"image\"].str[-3:].unique())"
   ]
  },
  {
   "cell_type": "code",
   "execution_count": 45,
   "id": "1eba601c",
   "metadata": {},
   "outputs": [
    {
     "name": "stdout",
     "output_type": "stream",
     "text": [
      "Total number of jpg files: 5748\n"
     ]
    }
   ],
   "source": [
    "print(\"Total number of jpg files:\", len(csv_df.loc[csv_df[\"image\"].str[-3:]==\"jpg\"])) # count jpg files' entries  "
   ]
  },
  {
   "cell_type": "markdown",
   "id": "411b4bef",
   "metadata": {},
   "source": [
    "### Looking at the entries, which extensions are not image files"
   ]
  },
  {
   "cell_type": "code",
   "execution_count": 55,
   "id": "9c3fdc5e",
   "metadata": {},
   "outputs": [
    {
     "name": "stdout",
     "output_type": "stream",
     "text": [
      "The *. pdf file(s) [['https://resource.gta.arch.ethz.ch/digitalobject/cms-135957'\n",
      "  'https://collections.gta.arch.ethz.ch/eas/partitions/1/0/159000/159496/d68ac4fdfbd8c65a6d3eaa0f46055979b5bf350e/application/pdf/217_010224_5.Dok_1.pdf']\n",
      " ['https://resource.gta.arch.ethz.ch/digitalobject/cms-135958'\n",
      "  'https://collections.gta.arch.ethz.ch/eas/partitions/1/0/159000/159497/6e15c25212cc5317654b07670a752ae637adcc6e/application/pdf/217_010258_1_Dok.1.pdf']\n",
      " ['https://resource.gta.arch.ethz.ch/digitalobject/cms-135959'\n",
      "  'https://collections.gta.arch.ethz.ch/eas/partitions/1/0/159000/159530/3b991d289e1152b0dad4dbc084999957974a07a6/application/pdf/217_Bubble_System_BBR_1.1.pdf']\n",
      " ['https://resource.gta.arch.ethz.ch/digitalobject/cms-135988'\n",
      "  'https://collections.gta.arch.ethz.ch/eas/partitions/1/0/160000/160199/227a7d2a8116858165791400facd8923c9e7cd64/application/pdf/217_0180_ZA.1.pdf']\n",
      " ['https://resource.gta.arch.ethz.ch/digitalobject/cms-135996'\n",
      "  'https://collections.gta.arch.ethz.ch/eas/partitions/1/0/160000/160338/d8095b10295714356949d70000a2c5d6135ca395/application/pdf/217_0360.1.pdf']\n",
      " ['https://resource.gta.arch.ethz.ch/digitalobject/cms-135997'\n",
      "  'https://collections.gta.arch.ethz.ch/eas/partitions/1/0/160000/160339/bd36f11797f5050573ef9db2a24e487ef2352b1a/application/pdf/217_0360.2.pdf']\n",
      " ['https://resource.gta.arch.ethz.ch/digitalobject/cms-135998'\n",
      "  'https://collections.gta.arch.ethz.ch/eas/partitions/1/0/160000/160340/312058b22f8afc5ca9fd1b74658170f6c8a72eae/application/pdf/217_0360.3.pdf']\n",
      " ['https://resource.gta.arch.ethz.ch/digitalobject/cms-135999'\n",
      "  'https://collections.gta.arch.ethz.ch/eas/partitions/1/0/160000/160341/51ae791815815cd2d05af3d2f1b663be201a805e/application/pdf/217_0360.4.pdf']\n",
      " ['https://resource.gta.arch.ethz.ch/digitalobject/cms-58540'\n",
      "  'https://collections.gta.arch.ethz.ch/eas/partitions/1/0/72000/72323/30a419c0b82cfb45defa12cdd2bd6f234b48b7b6/application/pdf/217_A_028.18.pdf']\n",
      " ['https://resource.gta.arch.ethz.ch/digitalobject/cms-58576'\n",
      "  'https://collections.gta.arch.ethz.ch/eas/partitions/1/0/72000/72361/000058449820f8f7dfa7eac06b66833f8731f087/application/pdf/217_A_028.19.pdf']\n",
      " ['https://resource.gta.arch.ethz.ch/digitalobject/cms-58429'\n",
      "  'https://collections.gta.arch.ethz.ch/eas/partitions/1/0/72000/72186/98c8510215d80cd7fab5c0240f1d3dd749196819/application/pdf/217_A_028.15.pdf']\n",
      " ['https://resource.gta.arch.ethz.ch/digitalobject/cms-58467'\n",
      "  'https://collections.gta.arch.ethz.ch/eas/partitions/1/0/72000/72232/ad8f2ffef48c38262ad52316e8b26b1698c9ab6f/application/pdf/217_A_028.16.pdf']\n",
      " ['https://resource.gta.arch.ethz.ch/digitalobject/cms-58504'\n",
      "  'https://collections.gta.arch.ethz.ch/eas/partitions/1/0/72000/72276/b25138accbebc2d87699139103897a31433f1fd1/application/pdf/217_A_028.17.pdf']\n",
      " ['https://resource.gta.arch.ethz.ch/digitalobject/cms-147570'\n",
      "  'https://collections.gta.arch.ethz.ch/eas/partitions/1/0/174000/174283/410e15eae70df0bfb1a37e1768510f42869eed0f/application/pdf/217_0360.1.pdf']\n",
      " ['https://resource.gta.arch.ethz.ch/digitalobject/cms-147571'\n",
      "  'https://collections.gta.arch.ethz.ch/eas/partitions/1/0/174000/174316/cd9c0e4dd29a0046e01b587c9b71b62dc3b4dd01/application/pdf/217_0360.2.pdf']\n",
      " ['https://resource.gta.arch.ethz.ch/digitalobject/cms-147572'\n",
      "  'https://collections.gta.arch.ethz.ch/eas/partitions/1/0/174000/174334/13a006147496701b797d6c0ffcee8a8d376b9bb2/application/pdf/217_0360.3.pdf']\n",
      " ['https://resource.gta.arch.ethz.ch/digitalobject/cms-147573'\n",
      "  'https://collections.gta.arch.ethz.ch/eas/partitions/1/0/174000/174355/54d16307f014ca57b5781eb8b05f4ac47dad742a/application/pdf/217_0360.4.pdf']] \n",
      " Total number of file(s) with .pdf extentions: 17 \n",
      "\n",
      "The *. wav file(s) [['https://resource.gta.arch.ethz.ch/digitalobject/cms-139570'\n",
      "  'https://collections.gta.arch.ethz.ch/eas/partitions/1/0/165000/165303/eccd465d6389ad96f4895bcce46fe84ec97b34b0/audio/x-wav/217_FON_1_recto.wav']] \n",
      " Total number of file(s) with .wav extentions: 1 \n",
      "\n",
      "The *. mp4 file(s) [['https://resource.gta.arch.ethz.ch/digitalobject/cms-140907'\n",
      "  'https://collections.gta.arch.ethz.ch/eas/partitions/1/0/166000/166644/7d77dfff4c69299535935b35a1c9109139c45205/video/mp4/217_CINE.1.mp4']\n",
      " ['https://resource.gta.arch.ethz.ch/digitalobject/cms-140908'\n",
      "  'https://collections.gta.arch.ethz.ch/eas/partitions/1/0/166000/166645/5f2c1c34fd987198b5766d454c599c266940f85a/video/mp4/217_CINE.2%20Kopie.mp4']\n",
      " ['https://resource.gta.arch.ethz.ch/digitalobject/cms-140909'\n",
      "  'https://collections.gta.arch.ethz.ch/eas/partitions/1/0/166000/166646/00f51181c0375cd63bfb51d4093281909da9fe55/video/mp4/217_CINE.2.mp4']\n",
      " ['https://resource.gta.arch.ethz.ch/digitalobject/cms-140910'\n",
      "  'https://collections.gta.arch.ethz.ch/eas/partitions/1/0/166000/166647/e8ecf8eea0cdcca5692ee3758d9ce651ec239c31/video/mp4/217_CINE.3.mp4']] \n",
      " Total number of file(s) with .mp4 extentions: 4 \n",
      "\n",
      "The *. mov file(s) [['https://resource.gta.arch.ethz.ch/digitalobject/cms-140941'\n",
      "  'https://collections.gta.arch.ethz.ch/eas/partitions/1/0/166000/166681/5c07a2d072d4edf73776772744cb3a4fbb64547d/video/quicktime/217_cine_10.mov']] \n",
      " Total number of file(s) with .mov extentions: 1 \n",
      "\n",
      "The *. zip file(s) [['https://resource.gta.arch.ethz.ch/digitalobject/cms-127570'\n",
      "  'https://collections.gta.arch.ethz.ch/eas/partitions/1/0/142000/142465/72c6726cfd756a1f9017167343eea936d0df17ab/application/zip/217_0630_FX.3.jpg.zip']] \n",
      " Total number of file(s) with .zip extentions: 1 \n",
      "\n"
     ]
    }
   ],
   "source": [
    "exts_no_jpg= csv_df[\"image\"].str[-3:].unique()\n",
    "for ext in exts_no_jpg: \n",
    "    if ext != \"jpg\": # exclude jpg file extention\n",
    "        print (\"The *.\", ext, \"file(s)\", csv_df.loc[csv_df[\"image\"].str[-3:]== ext].values, \"\\n\", f\"Total number of file(s) with .{ext} extentions:\", len(csv_df.loc[csv_df[\"image\"].str[-3:]== ext]), \"\\n\")"
   ]
  },
  {
   "cell_type": "code",
   "execution_count": null,
   "id": "e95ba215",
   "metadata": {},
   "outputs": [],
   "source": []
  }
 ],
 "metadata": {
  "kernelspec": {
   "display_name": "Python 3",
   "language": "python",
   "name": "python3"
  },
  "language_info": {
   "codemirror_mode": {
    "name": "ipython",
    "version": 3
   },
   "file_extension": ".py",
   "mimetype": "text/x-python",
   "name": "python",
   "nbconvert_exporter": "python",
   "pygments_lexer": "ipython3",
   "version": "3.8.8"
  }
 },
 "nbformat": 4,
 "nbformat_minor": 5
}
